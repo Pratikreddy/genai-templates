{
 "cells": [
  {
   "cell_type": "code",
   "execution_count": 3,
   "metadata": {},
   "outputs": [
    {
     "name": "stdout",
     "output_type": "stream",
     "text": [
      "{'id': 'chatcmpl-9nTuCnrEhfGi8yoicgg5lcaIoHx1n', 'object': 'chat.completion', 'created': 1721580056, 'model': 'gpt-4o-mini-2024-07-18', 'choices': [{'index': 0, 'message': {'role': 'assistant', 'content': '{\"images\":[\\n    {\\n        \"type\": \"ID Card\",\\n        \"data\": {\\n            \"NIK\": \"3302051004980001\",\\n            \"Name\": \"MUHAMMAD SAEFULLOH\",\\n            \"Birthplace\": \"CILACAP\",\\n            \"Birthdate\": \"10-01-1998\",\\n            \"Gender\": \"Laki Laki\",\\n            \"Address\": \"CINDAGA\",\\n            \"RT_RW\": \"001/015\",\\n            \"Village\": \"CINDAGA\",\\n            \"District\": \"KEBASEN\",\\n            \"Religion\": \"ISLAM\",\\n            \"Marital Status\": \"BELUM KAWIN\",\\n            \"Occupation\": \"PELAJAR/MAHASISWA\",\\n            \"Citizenship\": \"WNI\",\\n            \"Valid Until\": \"SEUMUR HIDUP\",\\n            \"Issued By\": \"BANYUMAS\",\\n            \"Issue Date\": \"22-09-2021\"\\n        }\\n    },\\n    {\\n        \"type\": \"Tax Identification Card\",\\n        \"data\": {\\n            \"NPWP\": \"55.403.311.8-412.000\",\\n            \"Name\": \"IRFAN AWALUDIN\",\\n            \"Address\": \"JL.H.ABDUL GAN CLODONG RT 03 RW 02 KALIBARU - CILODONG, DEPOK - JAWA BARAT\",\\n            \"Registration Date\": \"04/06'}, 'logprobs': None, 'finish_reason': 'length'}], 'usage': {'prompt_tokens': 73696, 'completion_tokens': 300, 'total_tokens': 73996}, 'system_fingerprint': 'fp_611b667b19'}\n"
     ]
    }
   ],
   "source": [
    "import base64\n",
    "import requests\n",
    "\n",
    "# OpenAI API Key\n",
    "api_key = \"\"\n",
    "\n",
    "# Function to encode the image\n",
    "def encode_image(image_path):\n",
    "    with open(image_path, \"rb\") as image_file:\n",
    "        return base64.b64encode(image_file.read()).decode('utf-8')\n",
    "\n",
    "# Paths to your images\n",
    "image_paths = [\n",
    "    \"/Users/p/Desktop/work/ayotta/KTP - Muhammad Saefulloh.jpeg\",\n",
    "    \"/Users/p/Desktop/work/ayotta/NPWP IRFAN AWALUDIN.jpg\"\n",
    "]\n",
    "\n",
    "# Getting the base64 strings\n",
    "base64_images = [encode_image(image_path) for image_path in image_paths]\n",
    "\n",
    "headers = {\n",
    "    \"Content-Type\": \"application/json\",\n",
    "    \"Authorization\": f\"Bearer {api_key}\"\n",
    "}\n",
    "\n",
    "# Creating image content\n",
    "image_contents = [\n",
    "    {\n",
    "        \"type\": \"image_url\",\n",
    "        \"image_url\": {\n",
    "            \"url\": f\"data:image/jpeg;base64,{base64_image}\"\n",
    "        }\n",
    "    }\n",
    "    for base64_image in base64_images\n",
    "]\n",
    "\n",
    "payload = {\n",
    "  \"model\": \"gpt-4o-mini\",\n",
    "  \"messages\": [\n",
    "    {\n",
    "      \"role\": \"user\",\n",
    "      \"content\": [\n",
    "        {\n",
    "          \"type\": \"text\",\n",
    "          \"text\": \"What's in these images? Is there any difference between them? extract theyre data in jsons\"\n",
    "        },\n",
    "        *image_contents\n",
    "      ]\n",
    "    }\n",
    "  ],\n",
    "  \"max_tokens\": 300,\n",
    "  \"temperature\": 0.7,\n",
    "  \"response_format\": {\n",
    "    \"type\": \"json_object\"\n",
    "  }\n",
    "}\n",
    "\n",
    "response = requests.post(\"https://api.openai.com/v1/chat/completions\", headers=headers, json=payload)\n",
    "\n",
    "print(response.json())\n"
   ]
  },
  {
   "cell_type": "code",
   "execution_count": 4,
   "metadata": {},
   "outputs": [
    {
     "name": "stdout",
     "output_type": "stream",
     "text": [
      "Choice(finish_reason='length', index=0, logprobs=None, message=ChatCompletionMessage(content='{\"images\":[\\n    {\\n        \"type\": \"KTP (Identity Card)\",\\n        \"data\": {\\n            \"NIK\": \"3302051004980001\",\\n            \"Name\": \"MUHAMMAD SAEFULLOH\",\\n            \"Birthplace_Date\": \"CILACAP, 10-01-1998\",\\n            \"Gender\": \"Laki Laki\",\\n            \"Address\": \"CINDAGA\",\\n            \"RT_RW\": \"001/015\",\\n            \"Village\": \"CINDAGA\",\\n            \"District\": \"KEBASEN\",\\n            \"Religion\": \"ISLAM\",\\n            \"Marital_Status\": \"BELUM KAWIN\",\\n            \"Occupation\": \"PELAJAR/MAHASISWA\",\\n            \"Citizenship\": \"WNI\",\\n            \"Validity\": \"SEUMUR HIDUP\",\\n            \"Issued_By\": \"BANYUMAS\",\\n            \"Issue_Date\": \"22-09-2021\"\\n        }\\n    },\\n    {\\n        \"type\": \"NPWP (Tax Identification Number)\",\\n        \"data\": {\\n            \"NPWP\": \"55.403.311.8-412.000\",\\n            \"Name\": \"IRFAN AWALUDIN\",\\n            \"Address\": \"JL.H.ABDUL GAN CLODONG RT 03 RW 02, KAIBARU - CILODONG, DEPOK - JAWA BARAT\",\\n            \"Registration_Date\": \"04/', role='assistant', function_call=None, tool_calls=None))\n"
     ]
    }
   ],
   "source": [
    "import base64\n",
    "from openai import OpenAI\n",
    "\n",
    "# OpenAI API Key\n",
    "api_key = \"\"\n",
    "client = OpenAI(api_key=api_key)\n",
    "\n",
    "# Function to encode the image\n",
    "def encode_image(image_path):\n",
    "    with open(image_path, \"rb\") as image_file:\n",
    "        return base64.b64encode(image_file.read()).decode('utf-8')\n",
    "\n",
    "# Paths to your images\n",
    "image_paths = [\n",
    "    \"/Users/p/Desktop/work/ayotta/KTP - Muhammad Saefulloh.jpeg\",\n",
    "    \"/Users/p/Desktop/work/ayotta/NPWP IRFAN AWALUDIN.jpg\"\n",
    "]\n",
    "\n",
    "# Getting the base64 strings\n",
    "base64_images = [encode_image(image_path) for image_path in image_paths]\n",
    "\n",
    "# Creating image content\n",
    "image_contents = [\n",
    "    {\n",
    "        \"type\": \"image_url\",\n",
    "        \"image_url\": {\n",
    "            \"url\": f\"data:image/jpeg;base64,{base64_image}\"\n",
    "        }\n",
    "    }\n",
    "    for base64_image in base64_images\n",
    "]\n",
    "\n",
    "response = client.chat.completions.create(\n",
    "  model=\"gpt-4o-mini\",\n",
    "  messages=[\n",
    "    {\n",
    "      \"role\": \"user\",\n",
    "      \"content\": [\n",
    "        {\n",
    "          \"type\": \"text\",\n",
    "          \"text\": \"What's in these images? Is there any difference between them? extract their data in JSON.\"\n",
    "        },\n",
    "        *image_contents\n",
    "      ]\n",
    "    }\n",
    "  ],\n",
    "  max_tokens=300,\n",
    "  temperature=0.7,\n",
    "  response_format={\"type\": \"json_object\"}\n",
    ")\n",
    "\n",
    "print(response.choices[0])\n"
   ]
  }
 ],
 "metadata": {
  "kernelspec": {
   "display_name": "Python 3",
   "language": "python",
   "name": "python3"
  },
  "language_info": {
   "codemirror_mode": {
    "name": "ipython",
    "version": 3
   },
   "file_extension": ".py",
   "mimetype": "text/x-python",
   "name": "python",
   "nbconvert_exporter": "python",
   "pygments_lexer": "ipython3",
   "version": "3.11.3"
  }
 },
 "nbformat": 4,
 "nbformat_minor": 2
}
